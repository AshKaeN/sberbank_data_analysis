{
 "cells": [
  {
   "cell_type": "code",
   "execution_count": 1,
   "metadata": {},
   "outputs": [],
   "source": [
    "import timeit\n",
    "import matplotlib\n",
    "import matplotlib.pyplot as plt\n",
    "import numpy as np\n",
    "import random\n",
    "from IPython import display\n",
    "import time\n",
    "%matplotlib inline"
   ]
  },
  {
   "cell_type": "markdown",
   "metadata": {},
   "source": [
    "### Упражнение 1\n",
    "\n",
    "На одном графике изобразите время затраченное на вычисление с использованием массивов numpy и стандартных списков в питоне.  \n",
    "Для более точных результатов замеряйте время выполнения функции несколько раз и усредняйте. \n",
    "* Используйте функцию `z = 2*x**2 + 4*y`\n",
    "* Перемножение матриц размера n на n"
   ]
  },
  {
   "cell_type": "markdown",
   "metadata": {},
   "source": [
    "### А нельзя проще это задание сделать и посчитать среднее время timeit по матрицам и гистограмму нарисовать?"
   ]
  },
  {
   "cell_type": "code",
   "execution_count": 2,
   "metadata": {},
   "outputs": [
    {
     "name": "stdout",
     "output_type": "stream",
     "text": [
      "Среднее время расчёта с numpy: 0.0002485429999999997, \n",
      "среднее время расчёта с list: 0.1314767734\n"
     ]
    },
    {
     "data": {
      "text/plain": [
       "<BarContainer object of 2 artists>"
      ]
     },
     "execution_count": 2,
     "metadata": {},
     "output_type": "execute_result"
    },
    {
     "data": {
      "image/png": "[encoded data removed]",
      "text/plain": [
       "<Figure size 432x288 with 1 Axes>"
      ]
     },
     "metadata": {
      "needs_background": "light"
     },
     "output_type": "display_data"
    }
   ],
   "source": [
    "setup_code_np = '''\n",
    "import numpy as np\n",
    "\n",
    "def function_z_np(n=100):\n",
    "    x = 100*np.random.random((n,n))\n",
    "    y = 100*np.random.random((n,n))\n",
    "    z = 2*np.linalg.matrix_power(x, 2) + 4*y\n",
    "    return z\n",
    "'''\n",
    "stmt_code_np = '''\n",
    "function_z_np()\n",
    "'''\n",
    "\n",
    "setup_code_list = '''\n",
    "import random\n",
    "\n",
    "def function_z_list(n=100):\n",
    "    x = [[random.random()*100 for i in range(n)] for j in range(n)]\n",
    "    y = [[random.random()*100 for i in range(n)] for j in range(n)]\n",
    "    sq_x = [[0 for i in range(n)] for j in range(n)]\n",
    "    for i in range(n):\n",
    "        for j in range(n):\n",
    "            e = 0\n",
    "            for r in range(n):\n",
    "                e += x[i][r]*x[r][j]\n",
    "            sq_x[i][j] = e\n",
    "    sq_x2 = [[2*el for el in sq_x[i][:]]for i in range(n)]\n",
    "    y4 = [[4*el for el in y[i][:]]for i in range(n)]\n",
    "    z = [[x + y for x, y in zip(sq_x2[i][:], y4[i][:])] for i in range(n)]\n",
    "    return z\n",
    "'''\n",
    "\n",
    "stmt_code_list = '''\n",
    "function_z_list()\n",
    "'''\n",
    "\n",
    "\n",
    "number = 500\n",
    "time_np = (timeit.timeit(setup = setup_code_np, stmt = stmt_code_np, number=number))/number\n",
    "time_list = (timeit.timeit(setup = setup_code_list, stmt = stmt_code_list, number=number))/number\n",
    "print('Среднее время расчёта с numpy: {}, \\nсреднее время расчёта с list: {}'.format(time_np, time_list))\n",
    "fig, ax = plt.subplots() \n",
    "ax.bar(['np', 'list'], [time_np, time_list] )  "
   ]
  },
  {
   "cell_type": "markdown",
   "metadata": {},
   "source": [
    "### Упражнение 2\n",
    "* Создайте массив чисел от 2 до 75. Выведите только нечётные. \n",
    "* Присвойте нечётным числам этого массива значение -1.\n",
    "\n"
   ]
  },
  {
   "cell_type": "code",
   "execution_count": 3,
   "metadata": {},
   "outputs": [
    {
     "name": "stdout",
     "output_type": "stream",
     "text": [
      "[ 3  5  7  9 11 13 15 17 19 21 23 25 27 29 31 33 35 37 39 41 43 45 47 49\n",
      " 51 53 55 57 59 61 63 65 67 69 71 73 75]\n"
     ]
    },
    {
     "data": {
      "text/plain": [
       "array([ 2, -1,  4, -1,  6, -1,  8, -1, 10, -1, 12, -1, 14, -1, 16, -1, 18,\n",
       "       -1, 20, -1, 22, -1, 24, -1, 26, -1, 28, -1, 30, -1, 32, -1, 34, -1,\n",
       "       36, -1, 38, -1, 40, -1, 42, -1, 44, -1, 46, -1, 48, -1, 50, -1, 52,\n",
       "       -1, 54, -1, 56, -1, 58, -1, 60, -1, 62, -1, 64, -1, 66, -1, 68, -1,\n",
       "       70, -1, 72, -1, 74, -1])"
      ]
     },
     "execution_count": 3,
     "metadata": {},
     "output_type": "execute_result"
    }
   ],
   "source": [
    "a = np.arange(2, 76, step=1)\n",
    "print(a[1::2])\n",
    "a[1::2] = -1\n",
    "a"
   ]
  },
  {
   "cell_type": "markdown",
   "metadata": {},
   "source": [
    "### Упражнение 3\n",
    "\n",
    "* Найдите в документации функцию, которая удаляет из одного массива элементы, которые есть в другом. \n",
    "* Приведите примеры использования."
   ]
  },
  {
   "cell_type": "code",
   "execution_count": 4,
   "metadata": {},
   "outputs": [
    {
     "name": "stdout",
     "output_type": "stream",
     "text": [
      "Массив а  [ 2  3  4  5  6  7  8  9 10 11 12 13 14 15 16 17 18 19 20 21 22 23 24]\n",
      "Массив b  [15 16 17 18 19 20 21 22 23 24 25 26 27 28 29 30 31 32 33 34]\n",
      "Итог  [ 2  3  4  5  6  7  8  9 10 11 12 13 14]\n"
     ]
    }
   ],
   "source": [
    "a = np.arange(2, 25, step=1)\n",
    "print('Массив а ', a)\n",
    "b = np.arange(15, 35, step=1)\n",
    "print('Массив b ', b)\n",
    "print('Итог ',np.setdiff1d(a, b))"
   ]
  },
  {
   "cell_type": "markdown",
   "metadata": {},
   "source": [
    "### Упражнение 4\n",
    "\n",
    "* Создайте случайную квадратную матрицу случайного размера от 10 до 100. \n",
    "* Найдите максимум и сумму элементов.\n",
    "* Поделите каждый элемент матрицы на максимум.\n",
    "* Отнимите от каждой строки матрицы среднее по строке.\n",
    "* Замените максимальное значение на -1."
   ]
  },
  {
   "cell_type": "code",
   "execution_count": 5,
   "metadata": {},
   "outputs": [
    {
     "name": "stdout",
     "output_type": "stream",
     "text": [
      "[[42 63 52 ... 64 77 56]\n",
      " [54 37 38 ... 35 71 30]\n",
      " [50 13 14 ... 69 70 46]\n",
      " ...\n",
      " [56 44 50 ... 78 21 50]\n",
      " [76 19 67 ... 74 34 27]\n",
      " [56 47 72 ... 52 39 26]] \n",
      "\n",
      " Размерность массива: (45, 45), максимальное значение: 79, сумма элеиентов: 89407\n",
      "\n",
      "[[0.53164557 0.79746835 0.65822785 ... 0.81012658 0.97468354 0.70886076]\n",
      " [0.6835443  0.46835443 0.48101266 ... 0.44303797 0.89873418 0.37974684]\n",
      " [0.63291139 0.16455696 0.17721519 ... 0.87341772 0.88607595 0.58227848]\n",
      " ...\n",
      " [0.70886076 0.55696203 0.63291139 ... 0.98734177 0.26582278 0.63291139]\n",
      " [0.96202532 0.24050633 0.84810127 ... 0.93670886 0.43037975 0.34177215]\n",
      " [0.70886076 0.59493671 0.91139241 ... 0.65822785 0.49367089 0.32911392]]\n",
      "[[-0.10182841  0.24247539  0.13755274 ...  0.22025316  0.40225035\n",
      "   0.11364276]\n",
      " [ 0.05007032 -0.08663854 -0.03966245 ... -0.14683544  0.32630098\n",
      "  -0.21547117]\n",
      " [-0.00056259 -0.39043601 -0.34345992 ...  0.2835443   0.31364276\n",
      "  -0.01293952]\n",
      " ...\n",
      " [ 0.07538678  0.00196906  0.11223629 ...  0.39746835 -0.30661041\n",
      "   0.03769339]\n",
      " [ 0.32855134 -0.31448664  0.32742616 ...  0.34683544 -0.14205345\n",
      "  -0.25344585]\n",
      " [ 0.07538678  0.03994374  0.3907173  ...  0.06835443 -0.07876231\n",
      "  -0.26610408]] 0.5243319268635726\n"
     ]
    },
    {
     "data": {
      "text/plain": [
       "array([[-0.10182841,  0.24247539,  0.13755274, ...,  0.22025316,\n",
       "         0.40225035,  0.11364276],\n",
       "       [ 0.05007032, -0.08663854, -0.03966245, ..., -0.14683544,\n",
       "         0.32630098, -0.21547117],\n",
       "       [-0.00056259, -0.39043601, -0.34345992, ...,  0.2835443 ,\n",
       "         0.31364276, -0.01293952],\n",
       "       ...,\n",
       "       [ 0.07538678,  0.00196906,  0.11223629, ...,  0.39746835,\n",
       "        -0.30661041,  0.03769339],\n",
       "       [ 0.32855134, -0.31448664,  0.32742616, ...,  0.34683544,\n",
       "        -0.14205345, -0.25344585],\n",
       "       [ 0.07538678,  0.03994374,  0.3907173 , ...,  0.06835443,\n",
       "        -0.07876231, -0.26610408]])"
      ]
     },
     "execution_count": 5,
     "metadata": {},
     "output_type": "execute_result"
    }
   ],
   "source": [
    "n = np.random.randint(90)+10\n",
    "a = np.random.randint(10, 80, size=(n, n))\n",
    "print(a, '\\n\\n', 'Размерность массива: {}, максимальное значение: {}, сумма элеиентов: {}\\n'.format(a.shape, a.max(), a.sum()))\n",
    "a = a[:]/a.max()\n",
    "print(a)\n",
    "a = a[::1][:]-a[::1][:].mean(axis = 1)\n",
    "print(a, a.max())\n",
    "a[a==a.max()] = -1\n",
    "a"
   ]
  },
  {
   "cell_type": "markdown",
   "metadata": {},
   "source": [
    "### Упражнение 5\n",
    "* Напишите функцию, которая берет многомерный вещественный массив с пропущенными значениями (np.nan) и возвращает его копию с заполненными пропусками (заменять средним значением всех элементов массива). Если в массиве одни пропущенные значения, заполните их нулями."
   ]
  },
  {
   "cell_type": "code",
   "execution_count": 6,
   "metadata": {},
   "outputs": [
    {
     "name": "stdout",
     "output_type": "stream",
     "text": [
      "\n",
      "Исходный массив:\n",
      "\n",
      " [[[3.64439194 9.23814471 0.6812588  0.84960556]\n",
      "  [9.38439746 4.14618934 9.82506078 8.99236107]\n",
      "  [3.02591955 7.37935404 5.11193506 9.73665351]]\n",
      "\n",
      " [[4.79403166 2.88619418 7.13564629 8.6234506 ]\n",
      "  [8.88482745 7.12495954 9.6629866  0.40815951]\n",
      "  [6.02751733 6.21144291 5.79730054 5.2583089 ]]\n",
      "\n",
      " [[8.64616849 5.45194289 4.03152462 8.90851389]\n",
      "  [4.77118515 8.78362148 2.10555496 4.38189655]\n",
      "  [8.41599815 6.64103623 4.57912779 1.56967364]]\n",
      "\n",
      " [[4.0101684  5.31404081 8.4770317  0.76180487]\n",
      "  [5.89481895 3.38418949 7.01490241 4.68153692]\n",
      "  [7.15934346 6.43706125 2.50775265 3.53918469]]\n",
      "\n",
      " [[4.38923796 8.58837989 3.42785691 2.36114293]\n",
      "  [3.96081335 5.16216156 5.691996   8.03911298]\n",
      "  [7.82874851 1.34554094 8.68732605 1.16144176]]]\n",
      "\n",
      "Массив с nan:\n",
      "\n",
      " [[[       nan        nan 0.6812588  0.84960556]\n",
      "  [       nan        nan        nan        nan]\n",
      "  [       nan 7.37935404 5.11193506 9.73665351]]\n",
      "\n",
      " [[       nan 2.88619418        nan        nan]\n",
      "  [       nan 7.12495954        nan 0.40815951]\n",
      "  [       nan 6.21144291 5.79730054        nan]]\n",
      "\n",
      " [[       nan        nan 4.03152462        nan]\n",
      "  [       nan        nan        nan        nan]\n",
      "  [8.41599815        nan        nan 1.56967364]]\n",
      "\n",
      " [[       nan        nan        nan        nan]\n",
      "  [       nan        nan        nan 4.68153692]\n",
      "  [7.15934346        nan        nan 3.53918469]]\n",
      "\n",
      " [[       nan 8.58837989        nan 2.36114293]\n",
      "  [3.96081335 5.16216156        nan        nan]\n",
      "  [7.82874851 1.34554094 8.68732605 1.16144176]]]\n",
      "\n",
      "Обработанный массив со средним 4.78:\n",
      "\n",
      "[[[4.77832001 4.77832001 0.6812588  0.84960556]\n",
      "  [4.77832001 4.77832001 4.77832001 4.77832001]\n",
      "  [4.77832001 7.37935404 5.11193506 9.73665351]]\n",
      "\n",
      " [[4.77832001 2.88619418 4.77832001 4.77832001]\n",
      "  [4.77832001 7.12495954 4.77832001 0.40815951]\n",
      "  [4.77832001 6.21144291 5.79730054 4.77832001]]\n",
      "\n",
      " [[4.77832001 4.77832001 4.03152462 4.77832001]\n",
      "  [4.77832001 4.77832001 4.77832001 4.77832001]\n",
      "  [8.41599815 4.77832001 4.77832001 1.56967364]]\n",
      "\n",
      " [[4.77832001 4.77832001 4.77832001 4.77832001]\n",
      "  [4.77832001 4.77832001 4.77832001 4.68153692]\n",
      "  [7.15934346 4.77832001 4.77832001 3.53918469]]\n",
      "\n",
      " [[4.77832001 8.58837989 4.77832001 2.36114293]\n",
      "  [3.96081335 5.16216156 4.77832001 4.77832001]\n",
      "  [7.82874851 1.34554094 8.68732605 1.16144176]]]\n"
     ]
    }
   ],
   "source": [
    "def fill_array(ar):\n",
    "    if np.isnan(ar).all():\n",
    "        ar[:] = 0\n",
    "    else:\n",
    "        mask = np.isnan(ar)\n",
    "        mask2 = (mask==False)\n",
    "        m_val = ar[mask2].mean()\n",
    "        ar[mask] = m_val\n",
    "    return ar, m_val\n",
    "\n",
    "size = (5, 3, 4)\n",
    "a = 10*np.random.random(size)\n",
    "print('\\nИсходный массив:\\n\\n',a)\n",
    "a[np.random.choice([True, False], size = size)] = np.nan\n",
    "print('\\nМассив с nan:\\n\\n',a)\n",
    "a, mean_value = fill_array(a)\n",
    "print('\\nОбработанный массив со средним {}:\\n\\n{}'.format(round(mean_value,2), a))"
   ]
  },
  {
   "cell_type": "markdown",
   "metadata": {},
   "source": [
    "### Упражнение 6\n",
    "* Напишите функцию которая нормализирует заданный numpy-массив, так чтобы его значения лежали в интервале $[0, 1]$."
   ]
  },
  {
   "cell_type": "code",
   "execution_count": 7,
   "metadata": {},
   "outputs": [
    {
     "name": "stdout",
     "output_type": "stream",
     "text": [
      "[[[2.19976425 8.78552979]\n",
      "  [8.42438038 5.86769038]\n",
      "  [4.18733996 3.96244171]\n",
      "  [7.62266909 1.22167387]\n",
      "  [1.24035906 4.59937281]\n",
      "  [0.64592754 8.44757398]\n",
      "  [9.67120666 8.42808517]]\n",
      "\n",
      " [[0.86843743 8.22973592]\n",
      "  [3.89945617 4.00594528]\n",
      "  [0.7730232  3.51356133]\n",
      "  [2.75414446 5.36895974]\n",
      "  [7.4771645  2.80526597]\n",
      "  [6.90104067 8.11905229]\n",
      "  [1.96276515 2.2025377 ]]\n",
      "\n",
      " [[6.74143048 3.2154259 ]\n",
      "  [3.4329981  4.73441254]\n",
      "  [4.22474906 0.22129351]\n",
      "  [8.26205123 3.40477958]\n",
      "  [9.9374333  5.63922775]\n",
      "  [0.09557398 6.7312254 ]\n",
      "  [4.2283256  7.53926205]]\n",
      "\n",
      " [[4.82414968 4.01769003]\n",
      "  [5.20307553 5.23587371]\n",
      "  [1.50803779 3.06635741]\n",
      "  [3.82751832 7.59521218]\n",
      "  [2.11528732 3.32388938]\n",
      "  [7.53365387 0.4231205 ]\n",
      "  [0.89715122 5.27875624]]] \n",
      "\n",
      " ************************** \n",
      "\n",
      "[[[0.22136141 0.8840844 ]\n",
      "  [0.84774208 0.59046337]\n",
      "  [0.42137037 0.39873895]\n",
      "  [0.76706619 0.12293656]\n",
      "  [0.12481684 0.46283307]\n",
      "  [0.06499943 0.85007604]\n",
      "  [0.97320972 0.84811489]]\n",
      "\n",
      " [[0.08739052 0.82815509]\n",
      "  [0.39240074 0.4031167 ]\n",
      "  [0.07778902 0.35356829]\n",
      "  [0.27714847 0.5402763 ]\n",
      "  [0.75242412 0.28229281]\n",
      "  [0.69444901 0.81701704]\n",
      "  [0.19751228 0.2216405 ]]\n",
      "\n",
      " [[0.67838749 0.32356704]\n",
      "  [0.34546125 0.47642207]\n",
      "  [0.42513483 0.02226868]\n",
      "  [0.83140696 0.34262163]\n",
      "  [1.         0.56747327]\n",
      "  [0.00961757 0.67736056]\n",
      "  [0.42549474 0.75867297]]\n",
      "\n",
      " [[0.48545228 0.40429857]\n",
      "  [0.52358344 0.52688391]\n",
      "  [0.15175325 0.30856634]\n",
      "  [0.38516166 0.76430321]\n",
      "  [0.21286053 0.33448168]\n",
      "  [0.75810862 0.04257845]\n",
      "  [0.09027997 0.53119916]]]\n"
     ]
    }
   ],
   "source": [
    "def norm_arr(ar):\n",
    "    ar = ar/ar.max()\n",
    "    return ar\n",
    "\n",
    "size = (4, 7, 2)\n",
    "a = 10*np.random.random(size)\n",
    "print(a, '\\n\\n','*'*26,'\\n')\n",
    "a = norm_arr(a)\n",
    "print(a)"
   ]
  },
  {
   "cell_type": "markdown",
   "metadata": {},
   "source": [
    "### Упражнение 7\n",
    "* Запишите numpy-array в файл.\n",
    "* Считайте numpy-array из файла."
   ]
  },
  {
   "cell_type": "code",
   "execution_count": 8,
   "metadata": {},
   "outputs": [
    {
     "name": "stdout",
     "output_type": "stream",
     "text": [
      "[[[8.57021948 4.80843662]]\n",
      "\n",
      " [[4.43605226 3.40487935]]\n",
      "\n",
      " [[0.07574639 3.98331626]]\n",
      "\n",
      " [[2.15998045 3.27071273]]] \n",
      "\n",
      "Загруженный\n",
      "\n",
      " [[[8.57021948 4.80843662]]\n",
      "\n",
      " [[4.43605226 3.40487935]]\n",
      "\n",
      " [[0.07574639 3.98331626]]\n",
      "\n",
      " [[2.15998045 3.27071273]]]\n"
     ]
    }
   ],
   "source": [
    "size = (4, 1, 2)\n",
    "a = 10*np.random.random(size)\n",
    "np.save(r'numpy_array.npy', a)\n",
    "b = np.load(r'numpy_array.npy')\n",
    "print(a, '\\n\\nЗагруженный\\n\\n', b)"
   ]
  },
  {
   "cell_type": "markdown",
   "metadata": {},
   "source": [
    "### Упражнение 8\n",
    "* Создайте случайный массив\n",
    "* Найдите в массиве элемент ближайший к данному"
   ]
  },
  {
   "cell_type": "code",
   "execution_count": 9,
   "metadata": {},
   "outputs": [
    {
     "name": "stdout",
     "output_type": "stream",
     "text": [
      "Заданное число:  5.724295290502736 \n",
      "\n",
      "Исходный массив:\n",
      "\n",
      " [[[4.06627809 0.90770935]\n",
      "  [8.13779831 7.70934377]]\n",
      "\n",
      " [[4.86111117 9.09498781]\n",
      "  [0.11431424 4.94036732]]\n",
      "\n",
      " [[4.35145222 6.89080327]\n",
      "  [4.4557573  6.9807222 ]]\n",
      "\n",
      " [[5.44442298 1.98192266]\n",
      "  [8.67005734 5.72429529]]] \n",
      "\n",
      "Расплющенный массив:\n",
      "\n",
      " [0.11431424 0.90770935 1.98192266 4.06627809 4.35145222 4.4557573\n",
      " 4.86111117 4.94036732 5.44442298 5.72429529 6.89080327 6.9807222\n",
      " 7.70934377 8.13779831 8.67005734 9.09498781]\n",
      "\n",
      "Ближайшее число:  5.444422978579912\n"
     ]
    }
   ],
   "source": [
    "# Находим ближайшее по значению\n",
    "\n",
    "size = (4, 2, 2)\n",
    "a = 10*np.random.random(size)\n",
    "\n",
    "# Случайным образом задаём элемент\n",
    "b = (np.random.randint(0,size[0]), \n",
    "     np.random.randint(0,size[1]), \n",
    "     np.random.randint(0,size[2]))\n",
    "\n",
    "#Или np.argwhere(), если число значением задаётся\n",
    "\n",
    "# Берём его индекс\n",
    "c = a[b[0]][b[1]][b[2]]\n",
    "\n",
    "print('Заданное число: ',c,'\\n')\n",
    "\n",
    "# Расплющиваем массив, сортируем\n",
    "d = np.sort(a.flatten(), kind='quicksort')\n",
    "print('Исходный массив:\\n\\n', a,'\\n\\nРасплющенный массив:\\n\\n', d)\n",
    "\n",
    "# Дальше ищем ближайшее по значению\n",
    "g =list(d).index(c)\n",
    "e=0\n",
    "f=0\n",
    "neib_dig = np.nan\n",
    "\n",
    "if g+1<=len(list(d)):\n",
    "    e = abs(c - d[g+1])\n",
    "if g-1>=0:\n",
    "    f = abs(d[g-1]-c )\n",
    "    \n",
    "if e != 0 and f != 0:\n",
    "    if e<=f:\n",
    "        neib_dig =d[g+1]\n",
    "    else:\n",
    "        neib_dig =d[g-1]\n",
    "elif e == 0 and f != 0:\n",
    "    neib_dig =d[g-1]\n",
    "elif e != 0 and f == 0:\n",
    "    neib_dig =d[g+1]\n",
    "else:\n",
    "    neib_dig = c\n",
    "print('\\nБлижайшее число: ', neib_dig)\n",
    "\n"
   ]
  },
  {
   "cell_type": "markdown",
   "metadata": {},
   "source": [
    "### Упражнение 9"
   ]
  },
  {
   "cell_type": "markdown",
   "metadata": {},
   "source": [
    "* Напишите функцию, которая возвращает  $n \\times m$ целочисленную матрицу с заданным значением на границах матрицы и с заданным значением внутри"
   ]
  },
  {
   "cell_type": "code",
   "execution_count": 10,
   "metadata": {},
   "outputs": [
    {
     "name": "stdout",
     "output_type": "stream",
     "text": [
      "[[22 22 22 22 22 22 22 22 22 22 22 22]\n",
      " [22 57 57 57 57 57 57 57 57 57 57 22]\n",
      " [22 57 57 57 57 57 57 57 57 57 57 22]\n",
      " [22 57 57 57 57 57 57 57 57 57 57 22]\n",
      " [22 57 57 57 57 57 57 57 57 57 57 22]\n",
      " [22 57 57 57 57 57 57 57 57 57 57 22]\n",
      " [22 57 57 57 57 57 57 57 57 57 57 22]\n",
      " [22 57 57 57 57 57 57 57 57 57 57 22]\n",
      " [22 57 57 57 57 57 57 57 57 57 57 22]\n",
      " [22 57 57 57 57 57 57 57 57 57 57 22]\n",
      " [22 57 57 57 57 57 57 57 57 57 57 22]\n",
      " [22 22 22 22 22 22 22 22 22 22 22 22]]\n"
     ]
    }
   ],
   "source": [
    "def matrix_n_m(n, m, k, l):\n",
    "    a = np.full((n,m),k)\n",
    "    a[0, ] = l\n",
    "    a[:, -1] = l\n",
    "    a[-1, ] = l\n",
    "    a[:, 0] = l\n",
    "    return a\n",
    "    \n",
    "r = np.random.randint(4, 15, 2)\n",
    "t = np.random.randint(4, 90, 2)\n",
    "a = matrix_n_m(r[0], r[1], t[0], t[1])\n",
    "print(a)"
   ]
  },
  {
   "cell_type": "markdown",
   "metadata": {},
   "source": [
    "### Упражнение 10\n",
    "* Напишите функцию, которая сортирует строки данной матрицы по значениям заданного столбца в порядке убывания. "
   ]
  },
  {
   "cell_type": "code",
   "execution_count": 11,
   "metadata": {},
   "outputs": [
    {
     "name": "stdout",
     "output_type": "stream",
     "text": [
      "Исходный массив: \n",
      "\n",
      " [[78 54 47 67 35 21]\n",
      " [69 31 75 47 18 31]\n",
      " [38 57 73 77 79 28]\n",
      " [19 43 41 27 33 61]\n",
      " [28 21 32 29 39 42]\n",
      " [28 44 52 60 14 19]\n",
      " [17 21 74 74 31 56]\n",
      " [54 18 69 24 16 58]\n",
      " [54 73 14 40 36 33]\n",
      " [33 69 62 16 22 77]\n",
      " [66 74 73 44 14 22]\n",
      " [16 31 35 54 27 36]]\n",
      "\n",
      "Номер столбца, по которому сотируем:  0 \n",
      "Индексы строк в порядке убывания значений элементов по столбцу:  [ 0  1 10  7  8  2  9  4  5  3  6 11]\n",
      "\n",
      "Получившаяся матрица: \n",
      "\n",
      " [[78 54 47 67 35 21]\n",
      " [69 31 75 47 18 31]\n",
      " [66 74 73 44 14 22]\n",
      " [54 18 69 24 16 58]\n",
      " [54 73 14 40 36 33]\n",
      " [38 57 73 77 79 28]\n",
      " [33 69 62 16 22 77]\n",
      " [28 21 32 29 39 42]\n",
      " [28 44 52 60 14 19]\n",
      " [19 43 41 27 33 61]\n",
      " [17 21 74 74 31 56]\n",
      " [16 31 35 54 27 36]]\n"
     ]
    }
   ],
   "source": [
    "def column_sort(n_c, ar):\n",
    "    ind = (-ar[:, n_c]).argsort(kind = 'quicksort')\n",
    "    print('\\nНомер столбца, по которому сотируем: ',n_c, '\\nИндексы строк в порядке убывания значений элементов по столбцу: ', ind)\n",
    "    ar = ar[ind, :]\n",
    "    return ar\n",
    "\n",
    "n = np.random.randint(15, size = 2)+5\n",
    "a = np.random.randint(10, 80, size=(n[0], n[1]))\n",
    "print('Исходный массив: \\n\\n', a)\n",
    "\n",
    "b = column_sort(np.random.randint(n[1]), a)\n",
    "print('\\nПолучившаяся матрица: \\n\\n', b)\n",
    "\n"
   ]
  },
  {
   "cell_type": "markdown",
   "metadata": {},
   "source": [
    "### Упражнение 11\n",
    "\n",
    "* Напишите функцию, которая создает двоичную матрицу шахматной доски с заданным shape\n",
    "\n",
    "Пример 4x4:\n",
    "```python\n",
    "[[0, 1, 0, 1],\n",
    " [1, 0, 1, 0],\n",
    " [0, 1, 0, 1],\n",
    " [1, 0, 1, 0]]\n",
    "```"
   ]
  },
  {
   "cell_type": "code",
   "execution_count": 12,
   "metadata": {},
   "outputs": [
    {
     "name": "stdout",
     "output_type": "stream",
     "text": [
      "Сторона шахматной доски:  10\n",
      "Шахматная доска заданного размера: \n",
      "\n",
      " [[0. 1. 0. 1. 0. 1. 0. 1. 0. 1.]\n",
      " [1. 0. 1. 0. 1. 0. 1. 0. 1. 0.]\n",
      " [0. 1. 0. 1. 0. 1. 0. 1. 0. 1.]\n",
      " [1. 0. 1. 0. 1. 0. 1. 0. 1. 0.]\n",
      " [0. 1. 0. 1. 0. 1. 0. 1. 0. 1.]\n",
      " [1. 0. 1. 0. 1. 0. 1. 0. 1. 0.]\n",
      " [0. 1. 0. 1. 0. 1. 0. 1. 0. 1.]\n",
      " [1. 0. 1. 0. 1. 0. 1. 0. 1. 0.]\n",
      " [0. 1. 0. 1. 0. 1. 0. 1. 0. 1.]\n",
      " [1. 0. 1. 0. 1. 0. 1. 0. 1. 0.]]\n"
     ]
    }
   ],
   "source": [
    "n = np.random.randint(14)+2\n",
    "print('Сторона шахматной доски: ', n)\n",
    "\n",
    "def chess_board(n):\n",
    "    ar = np.zeros(shape=(n, n))\n",
    "    ar[::2, 1::2] = 1\n",
    "    ar[1::2, ::2] = 1\n",
    "    print('Шахматная доска заданного размера: \\n\\n', ar)\n",
    "    return\n",
    "ar = chess_board(n)"
   ]
  },
  {
   "cell_type": "markdown",
   "metadata": {},
   "source": [
    "### Упражнение 12\n",
    "* Напишите игру [life](https://en.wikipedia.org/wiki/Conway%27s_Game_of_Life), используя массивы numpy.\n",
    "* Визуализируйте интерактивно ее результаты.\n",
    "\n"
   ]
  },
  {
   "cell_type": "code",
   "execution_count": 13,
   "metadata": {},
   "outputs": [
    {
     "data": {
      "image/png": "[encoded data removed]",
      "text/plain": [
       "<Figure size 1440x720 with 1 Axes>"
      ]
     },
     "metadata": {
      "needs_background": "light"
     },
     "output_type": "display_data"
    }
   ],
   "source": [
    "\n",
    "def Conway_s_game_of_life(m, n, cicles):\n",
    "    \n",
    "    ar = np.zeros((m, n))\n",
    "        \n",
    "    starting_position_r = np.random.randint(0, m, round(m*n*0.35))\n",
    "    starting_position_c = np.random.randint(0, n, len(starting_position_r))\n",
    "    ar[starting_position_r, starting_position_c] = 1    \n",
    "    \n",
    "    for i in range(cicles):\n",
    "\n",
    "        ar_l = np.hstack([ar[:, 1:],np.zeros(shape = (m,1))])\n",
    "        ar_r = np.hstack([np.zeros(shape = (m,1)), ar[:, :-1]])\n",
    "        ar_u = np.vstack([ar[1:, :],np.zeros(shape = (1,n))])\n",
    "        ar_d = np.vstack([np.zeros(shape = (1,n)), ar[:-1, :]])\n",
    "        \n",
    "        ar_l_u = np.vstack([ar_l[1:, :],np.zeros(shape = (1,n))])\n",
    "        ar_l_d = np.vstack([np.zeros(shape = (1,n)), ar_l[:-1, :]])\n",
    "        \n",
    "        \n",
    "        ar_r_u = np.vstack([ar_r[1:, :],np.zeros(shape = (1,n))])\n",
    "        ar_r_d = np.vstack([np.zeros(shape = (1,n)), ar_r[:-1, :]])\n",
    "        \n",
    "        ar_neighbour = ar_l + ar_l_u + ar_l_d + ar_r + ar_r_u + ar_r_d + ar_u + ar_d\n",
    "        \n",
    "        ar_check = ar*ar_neighbour\n",
    "        ar_check2 = (ar-1)*ar_neighbour\n",
    "        \n",
    "        ar = np.zeros(shape=(m, n))\n",
    "        i, j = np.where(ar_check == (2 or 3))\n",
    "        ar[i,j] = 1\n",
    "        i, j = np.where(ar_check2 == (-3))\n",
    "        ar[i,j] = 1\n",
    "        \n",
    "        \n",
    "        fig = plt.figure(figsize=(20, 10))\n",
    "        plt.imshow(ar)\n",
    "        plt.show()\n",
    "        display.clear_output(wait=True)\n",
    "        time.sleep(0.05)\n",
    "    return\n",
    "        \n",
    "\n",
    "\n",
    "m, n, cicles = input('Введит размерность сетки MxN и число циклов: ').split()\n",
    "m, n, cicles = int(m), int(n), int(cicles)\n",
    "Conway_s_game_of_life(m, n, cicles)\n",
    "    \n",
    "    "
   ]
  },
  {
   "cell_type": "code",
   "execution_count": null,
   "metadata": {},
   "outputs": [],
   "source": []
  }
 ],
 "metadata": {
  "kernelspec": {
   "display_name": "Python 3",
   "language": "python",
   "name": "python3"
  },
  "language_info": {
   "codemirror_mode": {
    "name": "ipython",
    "version": 3
   },
   "file_extension": ".py",
   "mimetype": "text/x-python",
   "name": "python",
   "nbconvert_exporter": "python",
   "pygments_lexer": "ipython3",
   "version": "3.7.7"
  }
 },
 "nbformat": 4,
 "nbformat_minor": 2
}
